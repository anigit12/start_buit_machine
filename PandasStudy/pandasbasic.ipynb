{
 "cells": [
  {
   "cell_type": "markdown",
   "id": "e512ca78",
   "metadata": {},
   "source": [
    "# PANDAS BASICS TO ADVANCE "
   ]
  },
  {
   "cell_type": "markdown",
   "id": "2f082df4",
   "metadata": {},
   "source": []
  }
 ],
 "metadata": {
  "language_info": {
   "name": "python"
  }
 },
 "nbformat": 4,
 "nbformat_minor": 5
}
