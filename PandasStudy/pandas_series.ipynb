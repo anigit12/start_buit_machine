{
 "cells": [
  {
   "cell_type": "markdown",
   "id": "e512ca78",
   "metadata": {},
   "source": [
    "# PANDAS BASICS TO ADVANCE "
   ]
  },
  {
   "cell_type": "markdown",
   "id": "a2bb12ad",
   "metadata": {},
   "source": [
    "## Pandas Series \n",
    "### This is a one dimentional nDarray with access lables  "
   ]
  },
  {
   "cell_type": "code",
   "execution_count": null,
   "id": "479c8fc5",
   "metadata": {},
   "outputs": [],
   "source": [
    "## create to create data import numpy \n",
    "import numpy as np \n",
    "import pandas as pd # to create pandas series "
   ]
  },
  {
   "cell_type": "code",
   "execution_count": null,
   "id": "48792849",
   "metadata": {},
   "outputs": [],
   "source": []
  }
 ],
 "metadata": {
  "kernelspec": {
   "display_name": "Python 3",
   "language": "python",
   "name": "python3"
  },
  "language_info": {
   "codemirror_mode": {
    "name": "ipython",
    "version": 3
   },
   "file_extension": ".py",
   "mimetype": "text/x-python",
   "name": "python",
   "nbconvert_exporter": "python",
   "pygments_lexer": "ipython3",
   "version": "3.11.8"
  }
 },
 "nbformat": 4,
 "nbformat_minor": 5
}
