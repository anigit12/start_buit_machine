{
 "cells": [
  {
   "cell_type": "code",
   "execution_count": 1,
   "id": "9ef63bf6",
   "metadata": {},
   "outputs": [],
   "source": [
    "import numpy as np"
   ]
  },
  {
   "cell_type": "code",
   "execution_count": 2,
   "id": "ddeea2ed",
   "metadata": {},
   "outputs": [],
   "source": [
    "#create an array \n",
    "arr= np.arange(1,11)"
   ]
  },
  {
   "cell_type": "code",
   "execution_count": 3,
   "id": "e0b43889",
   "metadata": {},
   "outputs": [
    {
     "data": {
      "text/plain": [
       "np.int64(1)"
      ]
     },
     "execution_count": 3,
     "metadata": {},
     "output_type": "execute_result"
    }
   ],
   "source": [
    "# select the single value from 1 d array \n",
    "arr[0] # pass the index value "
   ]
  },
  {
   "cell_type": "code",
   "execution_count": 4,
   "id": "3cf80641",
   "metadata": {},
   "outputs": [
    {
     "data": {
      "text/plain": [
       "array([1, 2, 3])"
      ]
     },
     "execution_count": 4,
     "metadata": {},
     "output_type": "execute_result"
    }
   ],
   "source": [
    "# slicing of the array \n",
    "arr[0:3] #[start:end:step_size]"
   ]
  },
  {
   "cell_type": "code",
   "execution_count": 5,
   "id": "359ef378",
   "metadata": {},
   "outputs": [],
   "source": [
    "# broadcasting\n",
    "arr[0:3]=10"
   ]
  },
  {
   "cell_type": "code",
   "execution_count": 6,
   "id": "6d0b5b99",
   "metadata": {},
   "outputs": [
    {
     "data": {
      "text/plain": [
       "array([10, 10, 10,  4,  5,  6,  7,  8,  9, 10])"
      ]
     },
     "execution_count": 6,
     "metadata": {},
     "output_type": "execute_result"
    }
   ],
   "source": [
    "arr"
   ]
  },
  {
   "cell_type": "code",
   "execution_count": 7,
   "id": "43e91ead",
   "metadata": {},
   "outputs": [],
   "source": [
    "#Note: when we are doing the broadcasting the shape of the array should be compatible and in this case its effect the original array "
   ]
  },
  {
   "cell_type": "code",
   "execution_count": 8,
   "id": "3759d4bd",
   "metadata": {},
   "outputs": [],
   "source": [
    "# 2d array creation \n",
    "arr2d=np.random.randint(1,2,(2,5))"
   ]
  },
  {
   "cell_type": "code",
   "execution_count": 9,
   "id": "bb03fa08",
   "metadata": {},
   "outputs": [
    {
     "data": {
      "text/plain": [
       "array([[0, 1, 2],\n",
       "       [3, 4, 5],\n",
       "       [6, 7, 8]])"
      ]
     },
     "execution_count": 9,
     "metadata": {},
     "output_type": "execute_result"
    }
   ],
   "source": [
    "# grab data from 2d array \n",
    "arr2d=np.arange(9).reshape(3,3)\n",
    "arr2d\n"
   ]
  },
  {
   "cell_type": "code",
   "execution_count": 10,
   "id": "2139c9c7",
   "metadata": {},
   "outputs": [
    {
     "data": {
      "text/plain": [
       "array([0, 1, 2])"
      ]
     },
     "execution_count": 10,
     "metadata": {},
     "output_type": "execute_result"
    }
   ],
   "source": [
    "arr2d[0][0] # access the element at first row and first column\n",
    "arr2d[0,0] # access the element at first row and first column\n",
    "arr2d[0]"
   ]
  },
  {
   "cell_type": "code",
   "execution_count": 11,
   "id": "58d1bda5",
   "metadata": {},
   "outputs": [
    {
     "data": {
      "text/plain": [
       "np.int64(7)"
      ]
     },
     "execution_count": 11,
     "metadata": {},
     "output_type": "execute_result"
    }
   ],
   "source": [
    "# slicing of 2d array \n",
    "arr2d[0:][1:][0][1:]\n",
    "arr2d[1:,1:][1:][0][0]"
   ]
  },
  {
   "cell_type": "code",
   "execution_count": 12,
   "id": "c813de84",
   "metadata": {},
   "outputs": [
    {
     "data": {
      "text/plain": [
       "array([ 5,  6,  7,  8,  9, 10])"
      ]
     },
     "execution_count": 12,
     "metadata": {},
     "output_type": "execute_result"
    }
   ],
   "source": [
    "## conditional selection\n",
    "arr=np.arange(1,11)\n",
    "boolean_array=arr>4\n",
    "arr[boolean_array]\n",
    "## in one liner \n",
    "arr[arr>4]"
   ]
  },
  {
   "cell_type": "code",
   "execution_count": 13,
   "id": "7a802d69",
   "metadata": {},
   "outputs": [
    {
     "data": {
      "text/plain": [
       "array([3, 5, 5, 5, 4, 4, 5, 3, 4, 5, 4, 6, 6, 3, 6, 3, 5, 6, 5])"
      ]
     },
     "execution_count": 13,
     "metadata": {},
     "output_type": "execute_result"
    }
   ],
   "source": [
    "#TASK: Use numpy to check how many rolls were greater than 2. For example if dice_rolls=[1,2,3] then the answer is 1\n",
    "import numpy as np\n",
    "dice_rolls = np.array([3, 1, 5, 2, 5, 1, 1, 5, 1, 4, 2, 1, 4, 5, 3, 4, 5, 2, 4, 2, 6, 6, 3, 6, 2, 3, 5, 6, 5])\n",
    "len(dice_rolls[dice_rolls>2])\n",
    "dice_rolls[dice_rolls>2]"
   ]
  },
  {
   "cell_type": "code",
   "execution_count": 14,
   "id": "59f00974",
   "metadata": {},
   "outputs": [
    {
     "data": {
      "text/plain": [
       "np.int64(19)"
      ]
     },
     "execution_count": 14,
     "metadata": {},
     "output_type": "execute_result"
    }
   ],
   "source": [
    "import numpy as np \n",
    "dice_rolls = np.array([3, 1, 5, 2, 5, 1, 1, 5, 1, 4, 2, 1, 4, 5, 3, 4, 5, 2, 4, 2, 6, 6, 3, 6, 2, 3, 5, 6, 5])\n",
    "total_rolls_over_two = dice_rolls[dice_rolls>2] \n",
    "np.prod(total_rolls_over_two.shape)"
   ]
  }
 ],
 "metadata": {
  "kernelspec": {
   "display_name": "Python 3",
   "language": "python",
   "name": "python3"
  },
  "language_info": {
   "codemirror_mode": {
    "name": "ipython",
    "version": 3
   },
   "file_extension": ".py",
   "mimetype": "text/x-python",
   "name": "python",
   "nbconvert_exporter": "python",
   "pygments_lexer": "ipython3",
   "version": "3.11.8"
  }
 },
 "nbformat": 4,
 "nbformat_minor": 5
}
