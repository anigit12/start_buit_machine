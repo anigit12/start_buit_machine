{
 "cells": [
  {
   "cell_type": "markdown",
   "id": "b1d4dcb1",
   "metadata": {},
   "source": [
    "# Numpy Starting "
   ]
  },
  {
   "cell_type": "code",
   "execution_count": 2,
   "id": "d82fe967",
   "metadata": {},
   "outputs": [],
   "source": [
    "#import numpy library\n",
    "import numpy as np\n"
   ]
  },
  {
   "cell_type": "code",
   "execution_count": 3,
   "id": "5cf231bf",
   "metadata": {},
   "outputs": [
    {
     "data": {
      "text/plain": [
       "array([1, 2, 3, 4, 5])"
      ]
     },
     "execution_count": 3,
     "metadata": {},
     "output_type": "execute_result"
    }
   ],
   "source": [
    "#create numpy array  \n",
    "## 1st is to convert a list to a numpy array\n",
    "lst=[1,2,3,4,5]\n",
    "np.array(lst)"
   ]
  },
  {
   "cell_type": "code",
   "execution_count": 4,
   "id": "433cc9e7",
   "metadata": {},
   "outputs": [
    {
     "data": {
      "text/plain": [
       "array([[1, 2],\n",
       "       [3, 4],\n",
       "       [5, 6]])"
      ]
     },
     "execution_count": 4,
     "metadata": {},
     "output_type": "execute_result"
    }
   ],
   "source": [
    "##nasted list to Nd arry\n",
    "lst=[[1,2],[3,4],[5,6]]\n",
    "np.array(lst) "
   ]
  },
  {
   "cell_type": "code",
   "execution_count": 5,
   "id": "07eabe09",
   "metadata": {},
   "outputs": [
    {
     "data": {
      "text/plain": [
       "array([1, 2, 3, 4, 5, 6, 7, 8, 9])"
      ]
     },
     "execution_count": 5,
     "metadata": {},
     "output_type": "execute_result"
    }
   ],
   "source": [
    "## array creation using arange function \n",
    "np.arange(1,10,1)"
   ]
  },
  {
   "cell_type": "code",
   "execution_count": 6,
   "id": "acf63d71",
   "metadata": {},
   "outputs": [
    {
     "data": {
      "text/plain": [
       "array([0., 0., 0., 0.])"
      ]
     },
     "execution_count": 6,
     "metadata": {},
     "output_type": "execute_result"
    }
   ],
   "source": [
    "## create one dimention zero array\n",
    "np.zeros(4)"
   ]
  },
  {
   "cell_type": "code",
   "execution_count": 7,
   "id": "919d5c0a",
   "metadata": {},
   "outputs": [
    {
     "data": {
      "text/plain": [
       "array([[1., 0., 0., 0., 0.],\n",
       "       [0., 1., 0., 0., 0.],\n",
       "       [0., 0., 1., 0., 0.],\n",
       "       [0., 0., 0., 1., 0.],\n",
       "       [0., 0., 0., 0., 1.]])"
      ]
     },
     "execution_count": 7,
     "metadata": {},
     "output_type": "execute_result"
    }
   ],
   "source": [
    "## create 2 * 3 dimentional zeros array \n",
    "np.zeros((1,5))\n",
    "np.eye(5)"
   ]
  },
  {
   "cell_type": "code",
   "execution_count": 8,
   "id": "b2cee26a",
   "metadata": {},
   "outputs": [
    {
     "data": {
      "text/plain": [
       "array([ 1., 10.])"
      ]
     },
     "execution_count": 8,
     "metadata": {},
     "output_type": "execute_result"
    }
   ],
   "source": [
    "## create linear space data form we need that lin space function\n",
    "np.linspace(1,10,2)"
   ]
  },
  {
   "cell_type": "code",
   "execution_count": 9,
   "id": "320b2b40",
   "metadata": {},
   "outputs": [
    {
     "data": {
      "text/plain": [
       "array([[0.27934744, 0.17421902, 0.61598795, 0.81651705],\n",
       "       [0.1544628 , 0.36838803, 0.02963125, 0.09679232],\n",
       "       [0.46466466, 0.55594653, 0.77391066, 0.92441948]])"
      ]
     },
     "execution_count": 9,
     "metadata": {},
     "output_type": "execute_result"
    }
   ],
   "source": [
    "## random distribution of data\n",
    "### uniform distribution\n",
    "np.random.rand(1)\n",
    "np.random.rand(5)\n",
    "# generate a 2D arrary \n",
    "np.random.rand(3,4)"
   ]
  },
  {
   "cell_type": "code",
   "execution_count": 10,
   "id": "e636b277",
   "metadata": {},
   "outputs": [
    {
     "data": {
      "text/plain": [
       "array([[-0.96067237, -0.07115542,  1.75131175],\n",
       "       [-0.27643886, -0.4130021 ,  1.22452129]])"
      ]
     },
     "execution_count": 10,
     "metadata": {},
     "output_type": "execute_result"
    }
   ],
   "source": [
    "## standard distribution\n",
    "np.random.randn(2,3)"
   ]
  },
  {
   "cell_type": "code",
   "execution_count": 11,
   "id": "1d0924ac",
   "metadata": {},
   "outputs": [
    {
     "data": {
      "text/plain": [
       "array([1, 3], dtype=int32)"
      ]
     },
     "execution_count": 11,
     "metadata": {},
     "output_type": "execute_result"
    }
   ],
   "source": [
    "## random integer generation \n",
    "np.random.randint(low=1,high=100,size=(3,4))\n",
    "## set boundary for the genration lower bound \n",
    "np.random.randint([1,2,3], 4)# make sure that the lower bound is less than  the upper bound\n",
    "## set upper boundary \n",
    "np.random.randint(1,[3,4,6])\n",
    "## set the lower and uppre bound \n",
    "np.random.randint([1,2],[2,4])      "
   ]
  },
  {
   "cell_type": "code",
   "execution_count": 12,
   "id": "26cd38fd",
   "metadata": {},
   "outputs": [
    {
     "data": {
      "text/plain": [
       "array([[2, 2],\n",
       "       [1, 3]], dtype=int32)"
      ]
     },
     "execution_count": 12,
     "metadata": {},
     "output_type": "execute_result"
    }
   ],
   "source": [
    "##set 2d boundation \n",
    "np.random.randint([1,2],[[3],[4]])"
   ]
  },
  {
   "cell_type": "code",
   "execution_count": 13,
   "id": "1d667ee5",
   "metadata": {},
   "outputs": [
    {
     "data": {
      "text/plain": [
       "array([[79, 99],\n",
       "       [26, 49]], dtype=int32)"
      ]
     },
     "execution_count": 13,
     "metadata": {},
     "output_type": "execute_result"
    }
   ],
   "source": [
    "## creation of n*m array with random intiger values\n",
    "np.random.randint(1,101,(2,2))"
   ]
  },
  {
   "cell_type": "code",
   "execution_count": 17,
   "id": "6b29ed9a",
   "metadata": {},
   "outputs": [
    {
     "data": {
      "text/plain": [
       "array([[0, 1, 2, 3, 4],\n",
       "       [5, 6, 7, 8, 9]])"
      ]
     },
     "execution_count": 17,
     "metadata": {},
     "output_type": "execute_result"
    }
   ],
   "source": [
    "## Reshape the size of the array \n",
    "array=np.arange(0,10,1)\n",
    "array.reshape(2,5)"
   ]
  },
  {
   "cell_type": "code",
   "execution_count": 18,
   "id": "84156bc1",
   "metadata": {},
   "outputs": [
    {
     "data": {
      "text/plain": [
       "array([ 0. ,  0.1,  0.2,  0.3,  0.4,  0.5,  0.6,  0.7,  0.8,  0.9,  1. ,\n",
       "        1.1,  1.2,  1.3,  1.4,  1.5,  1.6,  1.7,  1.8,  1.9,  2. ,  2.1,\n",
       "        2.2,  2.3,  2.4,  2.5,  2.6,  2.7,  2.8,  2.9,  3. ,  3.1,  3.2,\n",
       "        3.3,  3.4,  3.5,  3.6,  3.7,  3.8,  3.9,  4. ,  4.1,  4.2,  4.3,\n",
       "        4.4,  4.5,  4.6,  4.7,  4.8,  4.9,  5. ,  5.1,  5.2,  5.3,  5.4,\n",
       "        5.5,  5.6,  5.7,  5.8,  5.9,  6. ,  6.1,  6.2,  6.3,  6.4,  6.5,\n",
       "        6.6,  6.7,  6.8,  6.9,  7. ,  7.1,  7.2,  7.3,  7.4,  7.5,  7.6,\n",
       "        7.7,  7.8,  7.9,  8. ,  8.1,  8.2,  8.3,  8.4,  8.5,  8.6,  8.7,\n",
       "        8.8,  8.9,  9. ,  9.1,  9.2,  9.3,  9.4,  9.5,  9.6,  9.7,  9.8,\n",
       "        9.9, 10. ])"
      ]
     },
     "execution_count": 18,
     "metadata": {},
     "output_type": "execute_result"
    }
   ],
   "source": [
    "# TASK: Create a numpy array called myarray which consists of 101 evenly linearly spaced points between 0 and 10.\n",
    "np.linspace(0,10,101)"
   ]
  },
  {
   "cell_type": "code",
   "execution_count": null,
   "id": "d3cf7237",
   "metadata": {},
   "outputs": [],
   "source": [
    "#Indexing and Slicing and selection of the element \n"
   ]
  },
  {
   "cell_type": "code",
   "execution_count": null,
   "id": "b17ee512",
   "metadata": {},
   "outputs": [],
   "source": []
  },
  {
   "cell_type": "code",
   "execution_count": null,
   "id": "28e4e014",
   "metadata": {},
   "outputs": [],
   "source": []
  },
  {
   "cell_type": "code",
   "execution_count": null,
   "id": "e2412512",
   "metadata": {},
   "outputs": [],
   "source": []
  }
 ],
 "metadata": {
  "kernelspec": {
   "display_name": "Python 3",
   "language": "python",
   "name": "python3"
  },
  "language_info": {
   "codemirror_mode": {
    "name": "ipython",
    "version": 3
   },
   "file_extension": ".py",
   "mimetype": "text/x-python",
   "name": "python",
   "nbconvert_exporter": "python",
   "pygments_lexer": "ipython3",
   "version": "3.11.8"
  }
 },
 "nbformat": 4,
 "nbformat_minor": 5
}
